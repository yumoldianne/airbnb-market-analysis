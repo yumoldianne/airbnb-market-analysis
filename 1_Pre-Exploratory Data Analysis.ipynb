{
 "cells": [
  {
   "cell_type": "markdown",
   "id": "c9d9b393-8be6-4232-83e2-def6f56b14fc",
   "metadata": {},
   "source": [
    "# Data Cleaning"
   ]
  },
  {
   "cell_type": "code",
   "execution_count": 1,
   "id": "226facad-e3e8-4382-a5fa-de097d3c18bd",
   "metadata": {},
   "outputs": [],
   "source": [
    "import pandas as pd\n",
    "import numpy as np\n",
    "import matplotlib.pyplot as plt\n",
    "from sklearn.preprocessing import StandardScaler\n",
    "from scipy.stats import zscore"
   ]
  },
  {
   "cell_type": "markdown",
   "id": "e9347ecc-a266-441a-9b6f-37ab7de4d177",
   "metadata": {},
   "source": [
    "### Market Analysis"
   ]
  },
  {
   "cell_type": "code",
   "execution_count": 2,
   "id": "ae7a5f74-505e-4fd8-bcd7-5e95b9c4373e",
   "metadata": {},
   "outputs": [],
   "source": [
    "market_analysis = pd.read_csv('market_analysis.csv', delimiter=';', decimal=',')"
   ]
  },
  {
   "cell_type": "code",
   "execution_count": 3,
   "id": "60ba4e3e-5702-4c45-8e4a-2bda0c3a5db1",
   "metadata": {},
   "outputs": [
    {
     "data": {
      "text/html": [
       "<div>\n",
       "<style scoped>\n",
       "    .dataframe tbody tr th:only-of-type {\n",
       "        vertical-align: middle;\n",
       "    }\n",
       "\n",
       "    .dataframe tbody tr th {\n",
       "        vertical-align: top;\n",
       "    }\n",
       "\n",
       "    .dataframe thead th {\n",
       "        text-align: right;\n",
       "    }\n",
       "</style>\n",
       "<table border=\"1\" class=\"dataframe\">\n",
       "  <thead>\n",
       "    <tr style=\"text-align: right;\">\n",
       "      <th></th>\n",
       "      <th>unified_id</th>\n",
       "      <th>month</th>\n",
       "      <th>zipcode</th>\n",
       "      <th>city</th>\n",
       "      <th>host_type</th>\n",
       "      <th>bedrooms</th>\n",
       "      <th>bathrooms</th>\n",
       "      <th>guests</th>\n",
       "      <th>revenue</th>\n",
       "      <th>openness</th>\n",
       "      <th>occupancy</th>\n",
       "      <th>nightly rate</th>\n",
       "      <th>lead time</th>\n",
       "      <th>length stay</th>\n",
       "    </tr>\n",
       "  </thead>\n",
       "  <tbody>\n",
       "    <tr>\n",
       "      <th>0</th>\n",
       "      <td>10000347</td>\n",
       "      <td>2020-1</td>\n",
       "      <td>92315</td>\n",
       "      <td>Big Bear Lake</td>\n",
       "      <td>2-5 Units</td>\n",
       "      <td>3</td>\n",
       "      <td>2</td>\n",
       "      <td>10</td>\n",
       "      <td>899.959992</td>\n",
       "      <td>31</td>\n",
       "      <td>0.064516</td>\n",
       "      <td>449.979996</td>\n",
       "      <td>52.0</td>\n",
       "      <td>3.0</td>\n",
       "    </tr>\n",
       "    <tr>\n",
       "      <th>1</th>\n",
       "      <td>10000347</td>\n",
       "      <td>2020-10</td>\n",
       "      <td>92315</td>\n",
       "      <td>Big Bear Lake</td>\n",
       "      <td>2-5 Units</td>\n",
       "      <td>3</td>\n",
       "      <td>2</td>\n",
       "      <td>10</td>\n",
       "      <td>13950.000000</td>\n",
       "      <td>31</td>\n",
       "      <td>1.000000</td>\n",
       "      <td>450.000000</td>\n",
       "      <td>NaN</td>\n",
       "      <td>NaN</td>\n",
       "    </tr>\n",
       "    <tr>\n",
       "      <th>2</th>\n",
       "      <td>10000347</td>\n",
       "      <td>2020-11</td>\n",
       "      <td>92315</td>\n",
       "      <td>Big Bear Lake</td>\n",
       "      <td>2-5 Units</td>\n",
       "      <td>3</td>\n",
       "      <td>2</td>\n",
       "      <td>10</td>\n",
       "      <td>13500.000000</td>\n",
       "      <td>30</td>\n",
       "      <td>1.000000</td>\n",
       "      <td>450.000000</td>\n",
       "      <td>NaN</td>\n",
       "      <td>NaN</td>\n",
       "    </tr>\n",
       "    <tr>\n",
       "      <th>3</th>\n",
       "      <td>10000347</td>\n",
       "      <td>2020-12</td>\n",
       "      <td>92315</td>\n",
       "      <td>Big Bear Lake</td>\n",
       "      <td>2-5 Units</td>\n",
       "      <td>3</td>\n",
       "      <td>2</td>\n",
       "      <td>10</td>\n",
       "      <td>13950.000000</td>\n",
       "      <td>31</td>\n",
       "      <td>1.000000</td>\n",
       "      <td>450.000000</td>\n",
       "      <td>NaN</td>\n",
       "      <td>NaN</td>\n",
       "    </tr>\n",
       "    <tr>\n",
       "      <th>4</th>\n",
       "      <td>10000347</td>\n",
       "      <td>2020-2</td>\n",
       "      <td>92315</td>\n",
       "      <td>Big Bear Lake</td>\n",
       "      <td>2-5 Units</td>\n",
       "      <td>3</td>\n",
       "      <td>2</td>\n",
       "      <td>10</td>\n",
       "      <td>450.000000</td>\n",
       "      <td>29</td>\n",
       "      <td>0.034483</td>\n",
       "      <td>450.000000</td>\n",
       "      <td>8.0</td>\n",
       "      <td>1.0</td>\n",
       "    </tr>\n",
       "  </tbody>\n",
       "</table>\n",
       "</div>"
      ],
      "text/plain": [
       "   unified_id    month  zipcode           city  host_type  bedrooms bathrooms  \\\n",
       "0    10000347   2020-1    92315  Big Bear Lake  2-5 Units         3         2   \n",
       "1    10000347  2020-10    92315  Big Bear Lake  2-5 Units         3         2   \n",
       "2    10000347  2020-11    92315  Big Bear Lake  2-5 Units         3         2   \n",
       "3    10000347  2020-12    92315  Big Bear Lake  2-5 Units         3         2   \n",
       "4    10000347   2020-2    92315  Big Bear Lake  2-5 Units         3         2   \n",
       "\n",
       "  guests       revenue  openness  occupancy  nightly rate  lead time  \\\n",
       "0     10    899.959992        31   0.064516    449.979996       52.0   \n",
       "1     10  13950.000000        31   1.000000    450.000000        NaN   \n",
       "2     10  13500.000000        30   1.000000    450.000000        NaN   \n",
       "3     10  13950.000000        31   1.000000    450.000000        NaN   \n",
       "4     10    450.000000        29   0.034483    450.000000        8.0   \n",
       "\n",
       "   length stay  \n",
       "0          3.0  \n",
       "1          NaN  \n",
       "2          NaN  \n",
       "3          NaN  \n",
       "4          1.0  "
      ]
     },
     "execution_count": 3,
     "metadata": {},
     "output_type": "execute_result"
    }
   ],
   "source": [
    "market_analysis.head()"
   ]
  },
  {
   "cell_type": "code",
   "execution_count": 4,
   "id": "dd093ea8-133c-4f4b-b028-debc28452816",
   "metadata": {},
   "outputs": [
    {
     "name": "stdout",
     "output_type": "stream",
     "text": [
      "The Market Analysis dataset has 116619 instances\n"
     ]
    }
   ],
   "source": [
    "print(f'The Market Analysis dataset has {market_analysis.shape[0]} instances')"
   ]
  },
  {
   "cell_type": "code",
   "execution_count": 5,
   "id": "bfc8256b-695d-4866-a13a-2ff64fb141f4",
   "metadata": {},
   "outputs": [
    {
     "name": "stdout",
     "output_type": "stream",
     "text": [
      "The Market Analysis dataset has 14 attributes\n"
     ]
    }
   ],
   "source": [
    "print(f'The Market Analysis dataset has {market_analysis.shape[1]} attributes')"
   ]
  },
  {
   "cell_type": "markdown",
   "id": "598d9fc0-7cfa-4096-af0b-6ff9edfaf4fe",
   "metadata": {},
   "source": [
    "#### **Remove Duplicates**"
   ]
  },
  {
   "cell_type": "code",
   "execution_count": 6,
   "id": "1bb97949-0dfa-4e45-abbb-3dae18b1c7e0",
   "metadata": {},
   "outputs": [
    {
     "data": {
      "text/plain": [
       "0"
      ]
     },
     "execution_count": 6,
     "metadata": {},
     "output_type": "execute_result"
    }
   ],
   "source": [
    "market_analysis.duplicated().sum()"
   ]
  },
  {
   "cell_type": "code",
   "execution_count": 7,
   "id": "c4339624-8a62-48fa-86c1-ae945cf413a9",
   "metadata": {},
   "outputs": [],
   "source": [
    "market_analysis_cleaned = market_analysis.drop_duplicates()"
   ]
  },
  {
   "cell_type": "code",
   "execution_count": 8,
   "id": "ff5a1536-e807-422b-b1d1-466b4183f785",
   "metadata": {},
   "outputs": [
    {
     "name": "stdout",
     "output_type": "stream",
     "text": [
      "Removed duplicates from Market Analysis Dataset: 0\n"
     ]
    }
   ],
   "source": [
    "print(f'Removed duplicates from Market Analysis Dataset: {(market_analysis.shape[0] - market_analysis_cleaned.shape[0])}')"
   ]
  },
  {
   "cell_type": "markdown",
   "id": "5813f875-c5fe-4858-b875-8ce86e7a464b",
   "metadata": {},
   "source": [
    "#### **Remove Missing Values**"
   ]
  },
  {
   "cell_type": "code",
   "execution_count": 9,
   "id": "f963759f-afcb-472e-bf14-d80df76fc1bb",
   "metadata": {},
   "outputs": [
    {
     "data": {
      "text/plain": [
       "unified_id          0\n",
       "month               0\n",
       "zipcode             0\n",
       "city                0\n",
       "host_type           0\n",
       "bedrooms            0\n",
       "bathrooms           0\n",
       "guests              0\n",
       "revenue             6\n",
       "openness            0\n",
       "occupancy           0\n",
       "nightly rate    23473\n",
       "lead time       30594\n",
       "length stay     30594\n",
       "dtype: int64"
      ]
     },
     "execution_count": 9,
     "metadata": {},
     "output_type": "execute_result"
    }
   ],
   "source": [
    "market_analysis_cleaned.isnull().sum()"
   ]
  },
  {
   "cell_type": "code",
   "execution_count": 10,
   "id": "e8df4ff2-7ae5-42dc-ba76-279b82f3a36a",
   "metadata": {},
   "outputs": [
    {
     "data": {
      "text/plain": [
       "30594"
      ]
     },
     "execution_count": 10,
     "metadata": {},
     "output_type": "execute_result"
    }
   ],
   "source": [
    "market_analysis_cleaned.isnull().any(axis = 1).sum()"
   ]
  },
  {
   "cell_type": "code",
   "execution_count": 11,
   "id": "9c335a20-f66b-431a-83a1-46aff3e5c15d",
   "metadata": {},
   "outputs": [],
   "source": [
    "market_analysis_cleaned = market_analysis_cleaned.dropna()"
   ]
  },
  {
   "cell_type": "code",
   "execution_count": 12,
   "id": "c2b278fc-2903-47bf-9792-d2037cbb9a6b",
   "metadata": {},
   "outputs": [
    {
     "name": "stdout",
     "output_type": "stream",
     "text": [
      "Removed missing values from Market Analysis Dataset: 30594\n"
     ]
    }
   ],
   "source": [
    "print(f'Removed missing values from Market Analysis Dataset: {(market_analysis.shape[0] - market_analysis_cleaned.shape[0])}')"
   ]
  },
  {
   "cell_type": "markdown",
   "id": "2cbe0a42-59ea-4280-a43e-ffaf78e259b9",
   "metadata": {},
   "source": [
    "#### **Split Month and Year**"
   ]
  },
  {
   "cell_type": "code",
   "execution_count": 13,
   "id": "562bc65f-15bb-4db0-8295-ce2aedd5d773",
   "metadata": {},
   "outputs": [],
   "source": [
    "market_analysis_cleaned['year'] = market_analysis_cleaned['month'].str[:4].astype('int64')\n",
    "market_analysis_cleaned['month'] = market_analysis_cleaned['month'].str.extract(r'-(\\d+)').astype('int64')"
   ]
  },
  {
   "cell_type": "code",
   "execution_count": 14,
   "id": "2d4b782e-6ec9-40f0-953e-a56a8795d6e7",
   "metadata": {},
   "outputs": [
    {
     "data": {
      "text/plain": [
       "2022    34729\n",
       "2021    29527\n",
       "2020    21769\n",
       "Name: year, dtype: int64"
      ]
     },
     "execution_count": 14,
     "metadata": {},
     "output_type": "execute_result"
    }
   ],
   "source": [
    "market_analysis_cleaned['year'].value_counts()"
   ]
  },
  {
   "cell_type": "code",
   "execution_count": 15,
   "id": "d60c4e72-05dc-4d34-8637-68d3ddcb3f1c",
   "metadata": {},
   "outputs": [
    {
     "data": {
      "text/plain": [
       "12    9006\n",
       "11    8343\n",
       "1     7700\n",
       "7     7627\n",
       "9     7543\n",
       "2     7497\n",
       "10    7311\n",
       "8     7056\n",
       "3     6648\n",
       "6     6043\n",
       "5     6028\n",
       "4     5223\n",
       "Name: month, dtype: int64"
      ]
     },
     "execution_count": 15,
     "metadata": {},
     "output_type": "execute_result"
    }
   ],
   "source": [
    "market_analysis_cleaned['month'].value_counts()"
   ]
  },
  {
   "cell_type": "code",
   "execution_count": 16,
   "id": "86c93b0a-09b3-4404-94a1-4c30213d2d73",
   "metadata": {},
   "outputs": [
    {
     "data": {
      "text/html": [
       "<div>\n",
       "<style scoped>\n",
       "    .dataframe tbody tr th:only-of-type {\n",
       "        vertical-align: middle;\n",
       "    }\n",
       "\n",
       "    .dataframe tbody tr th {\n",
       "        vertical-align: top;\n",
       "    }\n",
       "\n",
       "    .dataframe thead th {\n",
       "        text-align: right;\n",
       "    }\n",
       "</style>\n",
       "<table border=\"1\" class=\"dataframe\">\n",
       "  <thead>\n",
       "    <tr style=\"text-align: right;\">\n",
       "      <th></th>\n",
       "      <th>unified_id</th>\n",
       "      <th>month</th>\n",
       "      <th>zipcode</th>\n",
       "      <th>city</th>\n",
       "      <th>host_type</th>\n",
       "      <th>bedrooms</th>\n",
       "      <th>bathrooms</th>\n",
       "      <th>guests</th>\n",
       "      <th>revenue</th>\n",
       "      <th>openness</th>\n",
       "      <th>occupancy</th>\n",
       "      <th>nightly rate</th>\n",
       "      <th>lead time</th>\n",
       "      <th>length stay</th>\n",
       "      <th>year</th>\n",
       "    </tr>\n",
       "  </thead>\n",
       "  <tbody>\n",
       "    <tr>\n",
       "      <th>0</th>\n",
       "      <td>10000347</td>\n",
       "      <td>1</td>\n",
       "      <td>92315</td>\n",
       "      <td>Big Bear Lake</td>\n",
       "      <td>2-5 Units</td>\n",
       "      <td>3</td>\n",
       "      <td>2</td>\n",
       "      <td>10</td>\n",
       "      <td>899.959992</td>\n",
       "      <td>31</td>\n",
       "      <td>0.064516</td>\n",
       "      <td>449.979996</td>\n",
       "      <td>52.000000</td>\n",
       "      <td>3.000000</td>\n",
       "      <td>2020</td>\n",
       "    </tr>\n",
       "    <tr>\n",
       "      <th>4</th>\n",
       "      <td>10000347</td>\n",
       "      <td>2</td>\n",
       "      <td>92315</td>\n",
       "      <td>Big Bear Lake</td>\n",
       "      <td>2-5 Units</td>\n",
       "      <td>3</td>\n",
       "      <td>2</td>\n",
       "      <td>10</td>\n",
       "      <td>450.000000</td>\n",
       "      <td>29</td>\n",
       "      <td>0.034483</td>\n",
       "      <td>450.000000</td>\n",
       "      <td>8.000000</td>\n",
       "      <td>1.000000</td>\n",
       "      <td>2020</td>\n",
       "    </tr>\n",
       "    <tr>\n",
       "      <th>7</th>\n",
       "      <td>10000347</td>\n",
       "      <td>7</td>\n",
       "      <td>92315</td>\n",
       "      <td>Big Bear Lake</td>\n",
       "      <td>2-5 Units</td>\n",
       "      <td>3</td>\n",
       "      <td>2</td>\n",
       "      <td>10</td>\n",
       "      <td>12600.000000</td>\n",
       "      <td>29</td>\n",
       "      <td>0.965517</td>\n",
       "      <td>450.000000</td>\n",
       "      <td>7.363636</td>\n",
       "      <td>2.545455</td>\n",
       "      <td>2020</td>\n",
       "    </tr>\n",
       "    <tr>\n",
       "      <th>9</th>\n",
       "      <td>10000347</td>\n",
       "      <td>9</td>\n",
       "      <td>92315</td>\n",
       "      <td>Big Bear Lake</td>\n",
       "      <td>2-5 Units</td>\n",
       "      <td>3</td>\n",
       "      <td>2</td>\n",
       "      <td>10</td>\n",
       "      <td>13500.000000</td>\n",
       "      <td>30</td>\n",
       "      <td>1.000000</td>\n",
       "      <td>450.000000</td>\n",
       "      <td>11.000000</td>\n",
       "      <td>174.000000</td>\n",
       "      <td>2020</td>\n",
       "    </tr>\n",
       "    <tr>\n",
       "      <th>15</th>\n",
       "      <td>10000347</td>\n",
       "      <td>3</td>\n",
       "      <td>92315</td>\n",
       "      <td>Big Bear Lake</td>\n",
       "      <td>2-5 Units</td>\n",
       "      <td>3</td>\n",
       "      <td>2</td>\n",
       "      <td>10</td>\n",
       "      <td>5400.000000</td>\n",
       "      <td>31</td>\n",
       "      <td>0.387097</td>\n",
       "      <td>450.000000</td>\n",
       "      <td>6.625000</td>\n",
       "      <td>1.500000</td>\n",
       "      <td>2021</td>\n",
       "    </tr>\n",
       "  </tbody>\n",
       "</table>\n",
       "</div>"
      ],
      "text/plain": [
       "    unified_id  month  zipcode           city  host_type  bedrooms bathrooms  \\\n",
       "0     10000347      1    92315  Big Bear Lake  2-5 Units         3         2   \n",
       "4     10000347      2    92315  Big Bear Lake  2-5 Units         3         2   \n",
       "7     10000347      7    92315  Big Bear Lake  2-5 Units         3         2   \n",
       "9     10000347      9    92315  Big Bear Lake  2-5 Units         3         2   \n",
       "15    10000347      3    92315  Big Bear Lake  2-5 Units         3         2   \n",
       "\n",
       "   guests       revenue  openness  occupancy  nightly rate  lead time  \\\n",
       "0      10    899.959992        31   0.064516    449.979996  52.000000   \n",
       "4      10    450.000000        29   0.034483    450.000000   8.000000   \n",
       "7      10  12600.000000        29   0.965517    450.000000   7.363636   \n",
       "9      10  13500.000000        30   1.000000    450.000000  11.000000   \n",
       "15     10   5400.000000        31   0.387097    450.000000   6.625000   \n",
       "\n",
       "    length stay  year  \n",
       "0      3.000000  2020  \n",
       "4      1.000000  2020  \n",
       "7      2.545455  2020  \n",
       "9    174.000000  2020  \n",
       "15     1.500000  2021  "
      ]
     },
     "execution_count": 16,
     "metadata": {},
     "output_type": "execute_result"
    }
   ],
   "source": [
    "market_analysis_cleaned.head()"
   ]
  },
  {
   "cell_type": "markdown",
   "id": "2650cf5a-ce69-42ca-bfca-7535aac7a1b2",
   "metadata": {},
   "source": [
    "#### **Changing the Data Type of Bathrooms**"
   ]
  },
  {
   "cell_type": "code",
   "execution_count": 17,
   "id": "0e45253d-e207-4303-b7d5-d8b5bbfa6ef0",
   "metadata": {},
   "outputs": [],
   "source": [
    "market_analysis_cleaned['bathrooms'] = market_analysis_cleaned['bathrooms'].astype('float')"
   ]
  },
  {
   "cell_type": "code",
   "execution_count": 18,
   "id": "ea7c9e6a-b004-4a0f-963d-101141006141",
   "metadata": {},
   "outputs": [
    {
     "data": {
      "text/plain": [
       "2.0    45340\n",
       "3.0    15364\n",
       "2.5     8472\n",
       "3.5     3838\n",
       "1.0     3824\n",
       "4.0     3677\n",
       "1.5     3085\n",
       "4.5     1249\n",
       "5.0      541\n",
       "5.5      299\n",
       "6.0      226\n",
       "7.0       64\n",
       "0.5       35\n",
       "0.0       11\n",
       "Name: bathrooms, dtype: int64"
      ]
     },
     "execution_count": 18,
     "metadata": {},
     "output_type": "execute_result"
    }
   ],
   "source": [
    "market_analysis_cleaned['bathrooms'].value_counts()"
   ]
  },
  {
   "cell_type": "markdown",
   "id": "0ca73cf8-279b-44a9-92bc-b097d2058bd0",
   "metadata": {},
   "source": [
    "#### **Changing the Data Type of Guests**"
   ]
  },
  {
   "cell_type": "code",
   "execution_count": 19,
   "id": "59cba15d-7e98-4466-ad8d-b1b20a6d43ca",
   "metadata": {},
   "outputs": [],
   "source": [
    "market_analysis_cleaned['guests'] = market_analysis_cleaned['guests'].replace('15+', '15').astype('int64')"
   ]
  },
  {
   "cell_type": "code",
   "execution_count": 20,
   "id": "3096cd53-4d57-4196-8282-c1a70ad84db5",
   "metadata": {},
   "outputs": [
    {
     "data": {
      "text/plain": [
       "8     22806\n",
       "6     16817\n",
       "10    13201\n",
       "7      8080\n",
       "12     6316\n",
       "9      5033\n",
       "15     4579\n",
       "14     2547\n",
       "11     2413\n",
       "5      2260\n",
       "13     1394\n",
       "4       537\n",
       "2        36\n",
       "3         6\n",
       "Name: guests, dtype: int64"
      ]
     },
     "execution_count": 20,
     "metadata": {},
     "output_type": "execute_result"
    }
   ],
   "source": [
    "market_analysis_cleaned['guests'].value_counts()"
   ]
  },
  {
   "cell_type": "markdown",
   "id": "3d3f2460-34fd-4326-9880-850957f06740",
   "metadata": {},
   "source": [
    "#### **Renaming Some Columns**"
   ]
  },
  {
   "cell_type": "code",
   "execution_count": 21,
   "id": "0ef52b31-266a-4a2c-b3d4-f270616865a3",
   "metadata": {},
   "outputs": [],
   "source": [
    "market_analysis_cleaned = market_analysis_cleaned.rename(columns = {'nightly rate' : 'nightly_rate', 'lead time' : 'lead_time', 'length stay' : 'length_stay'})"
   ]
  },
  {
   "cell_type": "code",
   "execution_count": 22,
   "id": "b048623d-d9e9-445f-8be3-1c4713f7e592",
   "metadata": {},
   "outputs": [],
   "source": [
    "market_analysis_cleaned = market_analysis_cleaned[['unified_id', 'month', 'year', 'zipcode', 'city', 'host_type', 'bedrooms', 'bathrooms', 'guests', 'revenue', 'openness', 'occupancy', 'nightly_rate', 'lead_time', 'length_stay']]"
   ]
  },
  {
   "cell_type": "code",
   "execution_count": 23,
   "id": "8dce63ec-ecea-4514-b86f-02a7c6f09161",
   "metadata": {},
   "outputs": [
    {
     "data": {
      "text/html": [
       "<div>\n",
       "<style scoped>\n",
       "    .dataframe tbody tr th:only-of-type {\n",
       "        vertical-align: middle;\n",
       "    }\n",
       "\n",
       "    .dataframe tbody tr th {\n",
       "        vertical-align: top;\n",
       "    }\n",
       "\n",
       "    .dataframe thead th {\n",
       "        text-align: right;\n",
       "    }\n",
       "</style>\n",
       "<table border=\"1\" class=\"dataframe\">\n",
       "  <thead>\n",
       "    <tr style=\"text-align: right;\">\n",
       "      <th></th>\n",
       "      <th>unified_id</th>\n",
       "      <th>month</th>\n",
       "      <th>year</th>\n",
       "      <th>zipcode</th>\n",
       "      <th>city</th>\n",
       "      <th>host_type</th>\n",
       "      <th>bedrooms</th>\n",
       "      <th>bathrooms</th>\n",
       "      <th>guests</th>\n",
       "      <th>revenue</th>\n",
       "      <th>openness</th>\n",
       "      <th>occupancy</th>\n",
       "      <th>nightly_rate</th>\n",
       "      <th>lead_time</th>\n",
       "      <th>length_stay</th>\n",
       "    </tr>\n",
       "  </thead>\n",
       "  <tbody>\n",
       "    <tr>\n",
       "      <th>0</th>\n",
       "      <td>10000347</td>\n",
       "      <td>1</td>\n",
       "      <td>2020</td>\n",
       "      <td>92315</td>\n",
       "      <td>Big Bear Lake</td>\n",
       "      <td>2-5 Units</td>\n",
       "      <td>3</td>\n",
       "      <td>2.0</td>\n",
       "      <td>10</td>\n",
       "      <td>899.959992</td>\n",
       "      <td>31</td>\n",
       "      <td>0.064516</td>\n",
       "      <td>449.979996</td>\n",
       "      <td>52.000000</td>\n",
       "      <td>3.000000</td>\n",
       "    </tr>\n",
       "    <tr>\n",
       "      <th>4</th>\n",
       "      <td>10000347</td>\n",
       "      <td>2</td>\n",
       "      <td>2020</td>\n",
       "      <td>92315</td>\n",
       "      <td>Big Bear Lake</td>\n",
       "      <td>2-5 Units</td>\n",
       "      <td>3</td>\n",
       "      <td>2.0</td>\n",
       "      <td>10</td>\n",
       "      <td>450.000000</td>\n",
       "      <td>29</td>\n",
       "      <td>0.034483</td>\n",
       "      <td>450.000000</td>\n",
       "      <td>8.000000</td>\n",
       "      <td>1.000000</td>\n",
       "    </tr>\n",
       "    <tr>\n",
       "      <th>7</th>\n",
       "      <td>10000347</td>\n",
       "      <td>7</td>\n",
       "      <td>2020</td>\n",
       "      <td>92315</td>\n",
       "      <td>Big Bear Lake</td>\n",
       "      <td>2-5 Units</td>\n",
       "      <td>3</td>\n",
       "      <td>2.0</td>\n",
       "      <td>10</td>\n",
       "      <td>12600.000000</td>\n",
       "      <td>29</td>\n",
       "      <td>0.965517</td>\n",
       "      <td>450.000000</td>\n",
       "      <td>7.363636</td>\n",
       "      <td>2.545455</td>\n",
       "    </tr>\n",
       "    <tr>\n",
       "      <th>9</th>\n",
       "      <td>10000347</td>\n",
       "      <td>9</td>\n",
       "      <td>2020</td>\n",
       "      <td>92315</td>\n",
       "      <td>Big Bear Lake</td>\n",
       "      <td>2-5 Units</td>\n",
       "      <td>3</td>\n",
       "      <td>2.0</td>\n",
       "      <td>10</td>\n",
       "      <td>13500.000000</td>\n",
       "      <td>30</td>\n",
       "      <td>1.000000</td>\n",
       "      <td>450.000000</td>\n",
       "      <td>11.000000</td>\n",
       "      <td>174.000000</td>\n",
       "    </tr>\n",
       "    <tr>\n",
       "      <th>15</th>\n",
       "      <td>10000347</td>\n",
       "      <td>3</td>\n",
       "      <td>2021</td>\n",
       "      <td>92315</td>\n",
       "      <td>Big Bear Lake</td>\n",
       "      <td>2-5 Units</td>\n",
       "      <td>3</td>\n",
       "      <td>2.0</td>\n",
       "      <td>10</td>\n",
       "      <td>5400.000000</td>\n",
       "      <td>31</td>\n",
       "      <td>0.387097</td>\n",
       "      <td>450.000000</td>\n",
       "      <td>6.625000</td>\n",
       "      <td>1.500000</td>\n",
       "    </tr>\n",
       "  </tbody>\n",
       "</table>\n",
       "</div>"
      ],
      "text/plain": [
       "    unified_id  month  year  zipcode           city  host_type  bedrooms  \\\n",
       "0     10000347      1  2020    92315  Big Bear Lake  2-5 Units         3   \n",
       "4     10000347      2  2020    92315  Big Bear Lake  2-5 Units         3   \n",
       "7     10000347      7  2020    92315  Big Bear Lake  2-5 Units         3   \n",
       "9     10000347      9  2020    92315  Big Bear Lake  2-5 Units         3   \n",
       "15    10000347      3  2021    92315  Big Bear Lake  2-5 Units         3   \n",
       "\n",
       "    bathrooms  guests       revenue  openness  occupancy  nightly_rate  \\\n",
       "0         2.0      10    899.959992        31   0.064516    449.979996   \n",
       "4         2.0      10    450.000000        29   0.034483    450.000000   \n",
       "7         2.0      10  12600.000000        29   0.965517    450.000000   \n",
       "9         2.0      10  13500.000000        30   1.000000    450.000000   \n",
       "15        2.0      10   5400.000000        31   0.387097    450.000000   \n",
       "\n",
       "    lead_time  length_stay  \n",
       "0   52.000000     3.000000  \n",
       "4    8.000000     1.000000  \n",
       "7    7.363636     2.545455  \n",
       "9   11.000000   174.000000  \n",
       "15   6.625000     1.500000  "
      ]
     },
     "execution_count": 23,
     "metadata": {},
     "output_type": "execute_result"
    }
   ],
   "source": [
    "market_analysis_cleaned.head()"
   ]
  },
  {
   "cell_type": "code",
   "execution_count": 24,
   "id": "e5a1c2ad-94f8-485b-add1-13f370bc9bc9",
   "metadata": {},
   "outputs": [
    {
     "name": "stdout",
     "output_type": "stream",
     "text": [
      "The Market Analysis dataset now has 86025 instances\n"
     ]
    }
   ],
   "source": [
    "print(f'The Market Analysis dataset now has {market_analysis_cleaned.shape[0]} instances')"
   ]
  },
  {
   "cell_type": "code",
   "execution_count": 25,
   "id": "c91ba7f5-6e69-4b25-ab91-4aa7f9c17e14",
   "metadata": {},
   "outputs": [
    {
     "name": "stdout",
     "output_type": "stream",
     "text": [
      "The Market Analysis dataset now has 15 attributes\n"
     ]
    }
   ],
   "source": [
    "print(f'The Market Analysis dataset now has {market_analysis_cleaned.shape[1]} attributes')"
   ]
  },
  {
   "cell_type": "code",
   "execution_count": 26,
   "id": "32ec7e9f-b661-4a8e-8f0d-72b812cd5b81",
   "metadata": {},
   "outputs": [
    {
     "name": "stdout",
     "output_type": "stream",
     "text": [
      "<class 'pandas.core.frame.DataFrame'>\n",
      "Int64Index: 86025 entries, 0 to 116616\n",
      "Data columns (total 15 columns):\n",
      " #   Column        Non-Null Count  Dtype  \n",
      "---  ------        --------------  -----  \n",
      " 0   unified_id    86025 non-null  int64  \n",
      " 1   month         86025 non-null  int64  \n",
      " 2   year          86025 non-null  int64  \n",
      " 3   zipcode       86025 non-null  int64  \n",
      " 4   city          86025 non-null  object \n",
      " 5   host_type     86025 non-null  object \n",
      " 6   bedrooms      86025 non-null  int64  \n",
      " 7   bathrooms     86025 non-null  float64\n",
      " 8   guests        86025 non-null  int64  \n",
      " 9   revenue       86025 non-null  float64\n",
      " 10  openness      86025 non-null  int64  \n",
      " 11  occupancy     86025 non-null  float64\n",
      " 12  nightly_rate  86025 non-null  float64\n",
      " 13  lead_time     86025 non-null  float64\n",
      " 14  length_stay   86025 non-null  float64\n",
      "dtypes: float64(6), int64(7), object(2)\n",
      "memory usage: 10.5+ MB\n"
     ]
    }
   ],
   "source": [
    "market_analysis_cleaned.info()"
   ]
  },
  {
   "cell_type": "markdown",
   "id": "0105ff76-035c-47fa-8fb6-f8c8afe5a9de",
   "metadata": {},
   "source": [
    "### Amenities"
   ]
  },
  {
   "cell_type": "code",
   "execution_count": 27,
   "id": "74776ddd-a38e-4ccd-ac78-025129551ddc",
   "metadata": {},
   "outputs": [],
   "source": [
    "amenities = pd.read_csv('amenities.csv', delimiter=';', decimal=',')"
   ]
  },
  {
   "cell_type": "code",
   "execution_count": 28,
   "id": "a8b3e99e-0ab9-4032-9825-1e5eebfecde0",
   "metadata": {},
   "outputs": [
    {
     "data": {
      "text/html": [
       "<div>\n",
       "<style scoped>\n",
       "    .dataframe tbody tr th:only-of-type {\n",
       "        vertical-align: middle;\n",
       "    }\n",
       "\n",
       "    .dataframe tbody tr th {\n",
       "        vertical-align: top;\n",
       "    }\n",
       "\n",
       "    .dataframe thead th {\n",
       "        text-align: right;\n",
       "    }\n",
       "</style>\n",
       "<table border=\"1\" class=\"dataframe\">\n",
       "  <thead>\n",
       "    <tr style=\"text-align: right;\">\n",
       "      <th></th>\n",
       "      <th>unified_id</th>\n",
       "      <th>month</th>\n",
       "      <th>hot_tub</th>\n",
       "      <th>pool</th>\n",
       "    </tr>\n",
       "  </thead>\n",
       "  <tbody>\n",
       "    <tr>\n",
       "      <th>0</th>\n",
       "      <td>AIR10052559</td>\n",
       "      <td>2022-12</td>\n",
       "      <td>1</td>\n",
       "      <td>0</td>\n",
       "    </tr>\n",
       "    <tr>\n",
       "      <th>1</th>\n",
       "      <td>AIR10178668</td>\n",
       "      <td>2022-12</td>\n",
       "      <td>0</td>\n",
       "      <td>0</td>\n",
       "    </tr>\n",
       "    <tr>\n",
       "      <th>2</th>\n",
       "      <td>AIR10211700</td>\n",
       "      <td>2022-12</td>\n",
       "      <td>0</td>\n",
       "      <td>0</td>\n",
       "    </tr>\n",
       "    <tr>\n",
       "      <th>3</th>\n",
       "      <td>AIR10344705</td>\n",
       "      <td>2022-12</td>\n",
       "      <td>0</td>\n",
       "      <td>0</td>\n",
       "    </tr>\n",
       "    <tr>\n",
       "      <th>4</th>\n",
       "      <td>AIR10424683</td>\n",
       "      <td>2022-12</td>\n",
       "      <td>0</td>\n",
       "      <td>1</td>\n",
       "    </tr>\n",
       "  </tbody>\n",
       "</table>\n",
       "</div>"
      ],
      "text/plain": [
       "    unified_id    month  hot_tub  pool\n",
       "0  AIR10052559  2022-12        1     0\n",
       "1  AIR10178668  2022-12        0     0\n",
       "2  AIR10211700  2022-12        0     0\n",
       "3  AIR10344705  2022-12        0     0\n",
       "4  AIR10424683  2022-12        0     1"
      ]
     },
     "execution_count": 28,
     "metadata": {},
     "output_type": "execute_result"
    }
   ],
   "source": [
    "amenities.head()"
   ]
  },
  {
   "cell_type": "code",
   "execution_count": 29,
   "id": "41553688-8ac9-4657-bc98-e7fc4ded2c02",
   "metadata": {},
   "outputs": [
    {
     "name": "stdout",
     "output_type": "stream",
     "text": [
      "The Amenities dataset has 49311 instances\n"
     ]
    }
   ],
   "source": [
    "print(f'The Amenities dataset has {amenities.shape[0]} instances')"
   ]
  },
  {
   "cell_type": "code",
   "execution_count": 30,
   "id": "2ca32d44-6b14-4ff0-8ea3-6e46e570d7dd",
   "metadata": {},
   "outputs": [
    {
     "name": "stdout",
     "output_type": "stream",
     "text": [
      "The Amenities dataset has 4 attributes\n"
     ]
    }
   ],
   "source": [
    "print(f'The Amenities dataset has {amenities.shape[1]} attributes')"
   ]
  },
  {
   "cell_type": "markdown",
   "id": "0c1d4645-b653-4119-97f6-f1bd67db5b96",
   "metadata": {},
   "source": [
    "#### **Remove Duplicates**"
   ]
  },
  {
   "cell_type": "code",
   "execution_count": 31,
   "id": "fb8a4f7b-b782-45a4-90a7-8ee84290fc75",
   "metadata": {},
   "outputs": [
    {
     "data": {
      "text/plain": [
       "0"
      ]
     },
     "execution_count": 31,
     "metadata": {},
     "output_type": "execute_result"
    }
   ],
   "source": [
    "amenities.duplicated().sum()"
   ]
  },
  {
   "cell_type": "code",
   "execution_count": 32,
   "id": "ff7db672-2f0e-4ac8-b07d-600c1cc0d021",
   "metadata": {},
   "outputs": [],
   "source": [
    "amenities_cleaned = amenities.drop_duplicates()"
   ]
  },
  {
   "cell_type": "code",
   "execution_count": 33,
   "id": "4a54b3a4-738e-4557-a82e-096e03f32bc1",
   "metadata": {},
   "outputs": [
    {
     "name": "stdout",
     "output_type": "stream",
     "text": [
      "Removed duplicates from Market Analysis Dataset: 0\n"
     ]
    }
   ],
   "source": [
    "print(f'Removed duplicates from Market Analysis Dataset: {(amenities.shape[0] - amenities_cleaned.shape[0])}')"
   ]
  },
  {
   "cell_type": "markdown",
   "id": "ddbb08fe-1713-4fbb-ac51-10a760bd5ea6",
   "metadata": {},
   "source": [
    "#### **Remove Missing Values**"
   ]
  },
  {
   "cell_type": "code",
   "execution_count": 34,
   "id": "5787edc4-8e7f-49bd-a4ac-fc8b2cfe33e4",
   "metadata": {},
   "outputs": [
    {
     "data": {
      "text/plain": [
       "unified_id    0\n",
       "month         0\n",
       "hot_tub       0\n",
       "pool          0\n",
       "dtype: int64"
      ]
     },
     "execution_count": 34,
     "metadata": {},
     "output_type": "execute_result"
    }
   ],
   "source": [
    "amenities_cleaned.isnull().sum()"
   ]
  },
  {
   "cell_type": "code",
   "execution_count": 35,
   "id": "30fac0f1-a0c9-4941-8584-0a6a308b3e8e",
   "metadata": {},
   "outputs": [
    {
     "data": {
      "text/plain": [
       "0"
      ]
     },
     "execution_count": 35,
     "metadata": {},
     "output_type": "execute_result"
    }
   ],
   "source": [
    "amenities_cleaned.isnull().any(axis = 1).sum()"
   ]
  },
  {
   "cell_type": "code",
   "execution_count": 36,
   "id": "61fe2dbb-a404-497a-bace-0c3fc99d6c44",
   "metadata": {},
   "outputs": [],
   "source": [
    "amenities_cleaned = amenities_cleaned.dropna()"
   ]
  },
  {
   "cell_type": "code",
   "execution_count": 37,
   "id": "4310b72b-bb0a-4558-bf20-cbfec1596e45",
   "metadata": {},
   "outputs": [
    {
     "name": "stdout",
     "output_type": "stream",
     "text": [
      "Removed missing values from Market Analysis Dataset: 0\n"
     ]
    }
   ],
   "source": [
    "print(f'Removed missing values from Market Analysis Dataset: {(amenities.shape[0] - amenities_cleaned.shape[0])}')"
   ]
  },
  {
   "cell_type": "markdown",
   "id": "f527d607-8699-47ab-b709-08400d437548",
   "metadata": {},
   "source": [
    "#### **Remove String from unified_id**"
   ]
  },
  {
   "cell_type": "code",
   "execution_count": 38,
   "id": "e393d5c1-ee6f-4f37-8568-1f8df30dee27",
   "metadata": {},
   "outputs": [],
   "source": [
    "amenities_cleaned['unified_id'] = amenities_cleaned['unified_id'].str.replace('AIR', '').astype('int64')"
   ]
  },
  {
   "cell_type": "code",
   "execution_count": 39,
   "id": "cce5eff5-3375-4654-a8e5-96bf2ad57456",
   "metadata": {},
   "outputs": [
    {
     "data": {
      "text/html": [
       "<div>\n",
       "<style scoped>\n",
       "    .dataframe tbody tr th:only-of-type {\n",
       "        vertical-align: middle;\n",
       "    }\n",
       "\n",
       "    .dataframe tbody tr th {\n",
       "        vertical-align: top;\n",
       "    }\n",
       "\n",
       "    .dataframe thead th {\n",
       "        text-align: right;\n",
       "    }\n",
       "</style>\n",
       "<table border=\"1\" class=\"dataframe\">\n",
       "  <thead>\n",
       "    <tr style=\"text-align: right;\">\n",
       "      <th></th>\n",
       "      <th>unified_id</th>\n",
       "      <th>month</th>\n",
       "      <th>hot_tub</th>\n",
       "      <th>pool</th>\n",
       "    </tr>\n",
       "  </thead>\n",
       "  <tbody>\n",
       "    <tr>\n",
       "      <th>0</th>\n",
       "      <td>10052559</td>\n",
       "      <td>2022-12</td>\n",
       "      <td>1</td>\n",
       "      <td>0</td>\n",
       "    </tr>\n",
       "    <tr>\n",
       "      <th>1</th>\n",
       "      <td>10178668</td>\n",
       "      <td>2022-12</td>\n",
       "      <td>0</td>\n",
       "      <td>0</td>\n",
       "    </tr>\n",
       "    <tr>\n",
       "      <th>2</th>\n",
       "      <td>10211700</td>\n",
       "      <td>2022-12</td>\n",
       "      <td>0</td>\n",
       "      <td>0</td>\n",
       "    </tr>\n",
       "    <tr>\n",
       "      <th>3</th>\n",
       "      <td>10344705</td>\n",
       "      <td>2022-12</td>\n",
       "      <td>0</td>\n",
       "      <td>0</td>\n",
       "    </tr>\n",
       "    <tr>\n",
       "      <th>4</th>\n",
       "      <td>10424683</td>\n",
       "      <td>2022-12</td>\n",
       "      <td>0</td>\n",
       "      <td>1</td>\n",
       "    </tr>\n",
       "  </tbody>\n",
       "</table>\n",
       "</div>"
      ],
      "text/plain": [
       "   unified_id    month  hot_tub  pool\n",
       "0    10052559  2022-12        1     0\n",
       "1    10178668  2022-12        0     0\n",
       "2    10211700  2022-12        0     0\n",
       "3    10344705  2022-12        0     0\n",
       "4    10424683  2022-12        0     1"
      ]
     },
     "execution_count": 39,
     "metadata": {},
     "output_type": "execute_result"
    }
   ],
   "source": [
    "amenities_cleaned.head()"
   ]
  },
  {
   "cell_type": "markdown",
   "id": "343b600c-0033-4d9f-8353-98933549694d",
   "metadata": {},
   "source": [
    "#### **Split Month and Year**"
   ]
  },
  {
   "cell_type": "code",
   "execution_count": 40,
   "id": "1282b22d-38ee-4119-a0de-22073cb44a89",
   "metadata": {},
   "outputs": [],
   "source": [
    "amenities_cleaned['year'] = amenities_cleaned['month'].str[:4].astype('int64')\n",
    "amenities_cleaned['month'] = amenities_cleaned['month'].str.extract(r'-(\\d+)').astype('int64')"
   ]
  },
  {
   "cell_type": "code",
   "execution_count": 41,
   "id": "ca04e838-f048-4c4a-9b05-c6612b2ea975",
   "metadata": {},
   "outputs": [
    {
     "data": {
      "text/plain": [
       "2020    21626\n",
       "2021    15877\n",
       "2022    11808\n",
       "Name: year, dtype: int64"
      ]
     },
     "execution_count": 41,
     "metadata": {},
     "output_type": "execute_result"
    }
   ],
   "source": [
    "amenities_cleaned['year'].value_counts()"
   ]
  },
  {
   "cell_type": "code",
   "execution_count": 42,
   "id": "f99e4641-09f5-4dbf-b319-a4560de7e95d",
   "metadata": {},
   "outputs": [
    {
     "data": {
      "text/plain": [
       "1     4680\n",
       "2     4603\n",
       "3     4579\n",
       "4     4444\n",
       "5     4274\n",
       "6     4173\n",
       "7     3974\n",
       "8     3891\n",
       "9     3791\n",
       "10    3716\n",
       "11    3615\n",
       "12    3571\n",
       "Name: month, dtype: int64"
      ]
     },
     "execution_count": 42,
     "metadata": {},
     "output_type": "execute_result"
    }
   ],
   "source": [
    "amenities_cleaned['month'].value_counts()"
   ]
  },
  {
   "cell_type": "code",
   "execution_count": 43,
   "id": "fe5883af-12a0-41ce-997e-82a71c86011a",
   "metadata": {},
   "outputs": [
    {
     "data": {
      "text/html": [
       "<div>\n",
       "<style scoped>\n",
       "    .dataframe tbody tr th:only-of-type {\n",
       "        vertical-align: middle;\n",
       "    }\n",
       "\n",
       "    .dataframe tbody tr th {\n",
       "        vertical-align: top;\n",
       "    }\n",
       "\n",
       "    .dataframe thead th {\n",
       "        text-align: right;\n",
       "    }\n",
       "</style>\n",
       "<table border=\"1\" class=\"dataframe\">\n",
       "  <thead>\n",
       "    <tr style=\"text-align: right;\">\n",
       "      <th></th>\n",
       "      <th>unified_id</th>\n",
       "      <th>month</th>\n",
       "      <th>hot_tub</th>\n",
       "      <th>pool</th>\n",
       "      <th>year</th>\n",
       "    </tr>\n",
       "  </thead>\n",
       "  <tbody>\n",
       "    <tr>\n",
       "      <th>0</th>\n",
       "      <td>10052559</td>\n",
       "      <td>12</td>\n",
       "      <td>1</td>\n",
       "      <td>0</td>\n",
       "      <td>2022</td>\n",
       "    </tr>\n",
       "    <tr>\n",
       "      <th>1</th>\n",
       "      <td>10178668</td>\n",
       "      <td>12</td>\n",
       "      <td>0</td>\n",
       "      <td>0</td>\n",
       "      <td>2022</td>\n",
       "    </tr>\n",
       "    <tr>\n",
       "      <th>2</th>\n",
       "      <td>10211700</td>\n",
       "      <td>12</td>\n",
       "      <td>0</td>\n",
       "      <td>0</td>\n",
       "      <td>2022</td>\n",
       "    </tr>\n",
       "    <tr>\n",
       "      <th>3</th>\n",
       "      <td>10344705</td>\n",
       "      <td>12</td>\n",
       "      <td>0</td>\n",
       "      <td>0</td>\n",
       "      <td>2022</td>\n",
       "    </tr>\n",
       "    <tr>\n",
       "      <th>4</th>\n",
       "      <td>10424683</td>\n",
       "      <td>12</td>\n",
       "      <td>0</td>\n",
       "      <td>1</td>\n",
       "      <td>2022</td>\n",
       "    </tr>\n",
       "  </tbody>\n",
       "</table>\n",
       "</div>"
      ],
      "text/plain": [
       "   unified_id  month  hot_tub  pool  year\n",
       "0    10052559     12        1     0  2022\n",
       "1    10178668     12        0     0  2022\n",
       "2    10211700     12        0     0  2022\n",
       "3    10344705     12        0     0  2022\n",
       "4    10424683     12        0     1  2022"
      ]
     },
     "execution_count": 43,
     "metadata": {},
     "output_type": "execute_result"
    }
   ],
   "source": [
    "amenities_cleaned.head()"
   ]
  },
  {
   "cell_type": "code",
   "execution_count": 44,
   "id": "510e61d9-fc1c-4d85-accb-67e7d0279a5b",
   "metadata": {},
   "outputs": [
    {
     "name": "stdout",
     "output_type": "stream",
     "text": [
      "The Amenities dataset now has 49311 instances\n"
     ]
    }
   ],
   "source": [
    "print(f'The Amenities dataset now has {amenities_cleaned.shape[0]} instances')"
   ]
  },
  {
   "cell_type": "code",
   "execution_count": 45,
   "id": "943ca4d2-2468-4e6a-8470-de16d7c5a240",
   "metadata": {},
   "outputs": [
    {
     "name": "stdout",
     "output_type": "stream",
     "text": [
      "The Amenities dataset now has 5 attributes\n"
     ]
    }
   ],
   "source": [
    "print(f'The Amenities dataset now has {amenities_cleaned.shape[1]} attributes')"
   ]
  },
  {
   "cell_type": "code",
   "execution_count": 46,
   "id": "f0885d9a-d15d-4804-a9b2-b9050951a766",
   "metadata": {},
   "outputs": [
    {
     "name": "stdout",
     "output_type": "stream",
     "text": [
      "<class 'pandas.core.frame.DataFrame'>\n",
      "Int64Index: 49311 entries, 0 to 49310\n",
      "Data columns (total 5 columns):\n",
      " #   Column      Non-Null Count  Dtype\n",
      "---  ------      --------------  -----\n",
      " 0   unified_id  49311 non-null  int64\n",
      " 1   month       49311 non-null  int64\n",
      " 2   hot_tub     49311 non-null  int64\n",
      " 3   pool        49311 non-null  int64\n",
      " 4   year        49311 non-null  int64\n",
      "dtypes: int64(5)\n",
      "memory usage: 2.3 MB\n"
     ]
    }
   ],
   "source": [
    "amenities_cleaned.info()"
   ]
  },
  {
   "cell_type": "markdown",
   "id": "4616ee79-7cc4-460a-99a5-55a9f8dbcf57",
   "metadata": {},
   "source": [
    "### Geolocation"
   ]
  },
  {
   "cell_type": "code",
   "execution_count": 47,
   "id": "2e46f626-1af4-4d52-ae6b-faf51cddca67",
   "metadata": {},
   "outputs": [],
   "source": [
    "geolocation = pd.read_csv('geolocation.csv', delimiter=';', decimal=',')"
   ]
  },
  {
   "cell_type": "code",
   "execution_count": 48,
   "id": "c8008627-0c45-4aef-9982-bf5b2b4e3909",
   "metadata": {},
   "outputs": [
    {
     "data": {
      "text/html": [
       "<div>\n",
       "<style scoped>\n",
       "    .dataframe tbody tr th:only-of-type {\n",
       "        vertical-align: middle;\n",
       "    }\n",
       "\n",
       "    .dataframe tbody tr th {\n",
       "        vertical-align: top;\n",
       "    }\n",
       "\n",
       "    .dataframe thead th {\n",
       "        text-align: right;\n",
       "    }\n",
       "</style>\n",
       "<table border=\"1\" class=\"dataframe\">\n",
       "  <thead>\n",
       "    <tr style=\"text-align: right;\">\n",
       "      <th></th>\n",
       "      <th>unified_id</th>\n",
       "      <th>month</th>\n",
       "      <th>street_name</th>\n",
       "      <th>latitude</th>\n",
       "      <th>longitude</th>\n",
       "    </tr>\n",
       "  </thead>\n",
       "  <tbody>\n",
       "    <tr>\n",
       "      <th>0</th>\n",
       "      <td>AIR10052559</td>\n",
       "      <td>2022-12</td>\n",
       "      <td>Heavenly Valley Road</td>\n",
       "      <td>34.23948</td>\n",
       "      <td>-116.87991</td>\n",
       "    </tr>\n",
       "    <tr>\n",
       "      <th>1</th>\n",
       "      <td>AIR10178668</td>\n",
       "      <td>2022-12</td>\n",
       "      <td>Round Drive</td>\n",
       "      <td>34.25095</td>\n",
       "      <td>-116.94139</td>\n",
       "    </tr>\n",
       "    <tr>\n",
       "      <th>2</th>\n",
       "      <td>AIR10211700</td>\n",
       "      <td>2022-12</td>\n",
       "      <td>NaN</td>\n",
       "      <td>34.24516</td>\n",
       "      <td>-116.87618</td>\n",
       "    </tr>\n",
       "    <tr>\n",
       "      <th>3</th>\n",
       "      <td>AIR10344705</td>\n",
       "      <td>2022-12</td>\n",
       "      <td>NaN</td>\n",
       "      <td>34.26750</td>\n",
       "      <td>-116.86089</td>\n",
       "    </tr>\n",
       "    <tr>\n",
       "      <th>4</th>\n",
       "      <td>AIR10424683</td>\n",
       "      <td>2022-12</td>\n",
       "      <td>Starvation Flats Road</td>\n",
       "      <td>34.25341</td>\n",
       "      <td>-116.88025</td>\n",
       "    </tr>\n",
       "  </tbody>\n",
       "</table>\n",
       "</div>"
      ],
      "text/plain": [
       "    unified_id    month            street_name  latitude  longitude\n",
       "0  AIR10052559  2022-12   Heavenly Valley Road  34.23948 -116.87991\n",
       "1  AIR10178668  2022-12            Round Drive  34.25095 -116.94139\n",
       "2  AIR10211700  2022-12                    NaN  34.24516 -116.87618\n",
       "3  AIR10344705  2022-12                    NaN  34.26750 -116.86089\n",
       "4  AIR10424683  2022-12  Starvation Flats Road  34.25341 -116.88025"
      ]
     },
     "execution_count": 48,
     "metadata": {},
     "output_type": "execute_result"
    }
   ],
   "source": [
    "geolocation.head()"
   ]
  },
  {
   "cell_type": "code",
   "execution_count": 49,
   "id": "ea82132e-d59c-4d8f-9c35-8a0df87d3b20",
   "metadata": {},
   "outputs": [
    {
     "name": "stdout",
     "output_type": "stream",
     "text": [
      "The Geolocation dataset has 49311 instances\n"
     ]
    }
   ],
   "source": [
    "print(f'The Geolocation dataset has {geolocation.shape[0]} instances')"
   ]
  },
  {
   "cell_type": "code",
   "execution_count": 50,
   "id": "9cd39da6-c397-4608-a5f4-6e3753621729",
   "metadata": {},
   "outputs": [
    {
     "name": "stdout",
     "output_type": "stream",
     "text": [
      "The Geolocation dataset has 5 attributes\n"
     ]
    }
   ],
   "source": [
    "print(f'The Geolocation dataset has {geolocation.shape[1]} attributes')"
   ]
  },
  {
   "cell_type": "markdown",
   "id": "7e2b0d73-d2e7-4e31-a58d-013a9db535b2",
   "metadata": {},
   "source": [
    "#### **Remove Duplicates**"
   ]
  },
  {
   "cell_type": "code",
   "execution_count": 51,
   "id": "194ef5bb-6258-471f-be31-813fd627e304",
   "metadata": {},
   "outputs": [
    {
     "data": {
      "text/plain": [
       "0"
      ]
     },
     "execution_count": 51,
     "metadata": {},
     "output_type": "execute_result"
    }
   ],
   "source": [
    "geolocation.duplicated().sum()"
   ]
  },
  {
   "cell_type": "code",
   "execution_count": 52,
   "id": "39678b79-0581-4693-9f89-c79c4db58686",
   "metadata": {},
   "outputs": [],
   "source": [
    "geolocation_cleaned = geolocation.drop_duplicates()"
   ]
  },
  {
   "cell_type": "code",
   "execution_count": 53,
   "id": "64be6b37-53a9-4c9e-9815-f7d970bc68a0",
   "metadata": {},
   "outputs": [
    {
     "name": "stdout",
     "output_type": "stream",
     "text": [
      "Removed duplicates from Geolocation Dataset: 0\n"
     ]
    }
   ],
   "source": [
    "print(f'Removed duplicates from Geolocation Dataset: {(geolocation.shape[0] - geolocation_cleaned.shape[0])}')"
   ]
  },
  {
   "cell_type": "markdown",
   "id": "5a37939e-c78a-4db3-a3cb-0608b6be39a2",
   "metadata": {},
   "source": [
    "#### **Dealing with Missing Values**"
   ]
  },
  {
   "cell_type": "code",
   "execution_count": 54,
   "id": "d56f44c8-8c0a-454b-afdb-cc34c973045d",
   "metadata": {},
   "outputs": [
    {
     "data": {
      "text/plain": [
       "unified_id         0\n",
       "month              0\n",
       "street_name    37722\n",
       "latitude           0\n",
       "longitude          0\n",
       "dtype: int64"
      ]
     },
     "execution_count": 54,
     "metadata": {},
     "output_type": "execute_result"
    }
   ],
   "source": [
    "geolocation_cleaned.isnull().sum()"
   ]
  },
  {
   "cell_type": "code",
   "execution_count": 55,
   "id": "a6fdad5d-04bd-404f-9d47-1c0feae44269",
   "metadata": {},
   "outputs": [],
   "source": [
    "geolocation_cleaned.drop('street_name', axis = 1, inplace = True)"
   ]
  },
  {
   "cell_type": "code",
   "execution_count": 56,
   "id": "a95afebb-dccb-4815-9fb1-370bf95faa0d",
   "metadata": {},
   "outputs": [
    {
     "name": "stdout",
     "output_type": "stream",
     "text": [
      "Removed attributes from Geolocation Dataset: 1\n"
     ]
    }
   ],
   "source": [
    "print(f'Removed attributes from Geolocation Dataset: {(geolocation.shape[1] - geolocation_cleaned.shape[1])}')"
   ]
  },
  {
   "cell_type": "markdown",
   "id": "b362801a-f95d-4c04-b0c8-f556d7abf569",
   "metadata": {},
   "source": [
    "#### **Remove String from unified_id**"
   ]
  },
  {
   "cell_type": "code",
   "execution_count": 57,
   "id": "43fb2696-0ce6-4e3b-8f89-3aaf6066e8f6",
   "metadata": {},
   "outputs": [],
   "source": [
    "geolocation_cleaned['unified_id'] = geolocation_cleaned['unified_id'].str.replace('AIR', '').astype('int64')"
   ]
  },
  {
   "cell_type": "code",
   "execution_count": 58,
   "id": "d213ec3b-e69e-4094-8fd9-0911d45a8969",
   "metadata": {},
   "outputs": [
    {
     "data": {
      "text/html": [
       "<div>\n",
       "<style scoped>\n",
       "    .dataframe tbody tr th:only-of-type {\n",
       "        vertical-align: middle;\n",
       "    }\n",
       "\n",
       "    .dataframe tbody tr th {\n",
       "        vertical-align: top;\n",
       "    }\n",
       "\n",
       "    .dataframe thead th {\n",
       "        text-align: right;\n",
       "    }\n",
       "</style>\n",
       "<table border=\"1\" class=\"dataframe\">\n",
       "  <thead>\n",
       "    <tr style=\"text-align: right;\">\n",
       "      <th></th>\n",
       "      <th>unified_id</th>\n",
       "      <th>month</th>\n",
       "      <th>latitude</th>\n",
       "      <th>longitude</th>\n",
       "    </tr>\n",
       "  </thead>\n",
       "  <tbody>\n",
       "    <tr>\n",
       "      <th>0</th>\n",
       "      <td>10052559</td>\n",
       "      <td>2022-12</td>\n",
       "      <td>34.23948</td>\n",
       "      <td>-116.87991</td>\n",
       "    </tr>\n",
       "    <tr>\n",
       "      <th>1</th>\n",
       "      <td>10178668</td>\n",
       "      <td>2022-12</td>\n",
       "      <td>34.25095</td>\n",
       "      <td>-116.94139</td>\n",
       "    </tr>\n",
       "    <tr>\n",
       "      <th>2</th>\n",
       "      <td>10211700</td>\n",
       "      <td>2022-12</td>\n",
       "      <td>34.24516</td>\n",
       "      <td>-116.87618</td>\n",
       "    </tr>\n",
       "    <tr>\n",
       "      <th>3</th>\n",
       "      <td>10344705</td>\n",
       "      <td>2022-12</td>\n",
       "      <td>34.26750</td>\n",
       "      <td>-116.86089</td>\n",
       "    </tr>\n",
       "    <tr>\n",
       "      <th>4</th>\n",
       "      <td>10424683</td>\n",
       "      <td>2022-12</td>\n",
       "      <td>34.25341</td>\n",
       "      <td>-116.88025</td>\n",
       "    </tr>\n",
       "  </tbody>\n",
       "</table>\n",
       "</div>"
      ],
      "text/plain": [
       "   unified_id    month  latitude  longitude\n",
       "0    10052559  2022-12  34.23948 -116.87991\n",
       "1    10178668  2022-12  34.25095 -116.94139\n",
       "2    10211700  2022-12  34.24516 -116.87618\n",
       "3    10344705  2022-12  34.26750 -116.86089\n",
       "4    10424683  2022-12  34.25341 -116.88025"
      ]
     },
     "execution_count": 58,
     "metadata": {},
     "output_type": "execute_result"
    }
   ],
   "source": [
    "geolocation_cleaned.head()"
   ]
  },
  {
   "cell_type": "markdown",
   "id": "ad2f232a-4525-49cc-83ff-62635b9a9aa9",
   "metadata": {},
   "source": [
    "#### **Split Month and Year**"
   ]
  },
  {
   "cell_type": "code",
   "execution_count": 59,
   "id": "52e9cfd4-bcea-4877-9466-2456dd19fcbf",
   "metadata": {},
   "outputs": [],
   "source": [
    "geolocation_cleaned['year'] = geolocation_cleaned['month'].str[:4].astype('int64')\n",
    "geolocation_cleaned['month'] = geolocation_cleaned['month'].str.extract(r'-(\\d+)').astype('int64')"
   ]
  },
  {
   "cell_type": "code",
   "execution_count": 60,
   "id": "a3520b09-9c05-4c33-8d72-0801ffa06949",
   "metadata": {},
   "outputs": [
    {
     "data": {
      "text/plain": [
       "2020    21626\n",
       "2021    15877\n",
       "2022    11808\n",
       "Name: year, dtype: int64"
      ]
     },
     "execution_count": 60,
     "metadata": {},
     "output_type": "execute_result"
    }
   ],
   "source": [
    "geolocation_cleaned['year'].value_counts()"
   ]
  },
  {
   "cell_type": "code",
   "execution_count": 61,
   "id": "6ecbc8e1-aa8f-4354-8422-91de6dd89d20",
   "metadata": {},
   "outputs": [
    {
     "data": {
      "text/plain": [
       "1     4680\n",
       "2     4603\n",
       "3     4579\n",
       "4     4444\n",
       "5     4274\n",
       "6     4173\n",
       "7     3974\n",
       "8     3891\n",
       "9     3791\n",
       "10    3716\n",
       "11    3615\n",
       "12    3571\n",
       "Name: month, dtype: int64"
      ]
     },
     "execution_count": 61,
     "metadata": {},
     "output_type": "execute_result"
    }
   ],
   "source": [
    "geolocation_cleaned['month'].value_counts()"
   ]
  },
  {
   "cell_type": "code",
   "execution_count": 62,
   "id": "0e7590e0-6fe5-42f3-9115-0cba9902a381",
   "metadata": {},
   "outputs": [
    {
     "data": {
      "text/html": [
       "<div>\n",
       "<style scoped>\n",
       "    .dataframe tbody tr th:only-of-type {\n",
       "        vertical-align: middle;\n",
       "    }\n",
       "\n",
       "    .dataframe tbody tr th {\n",
       "        vertical-align: top;\n",
       "    }\n",
       "\n",
       "    .dataframe thead th {\n",
       "        text-align: right;\n",
       "    }\n",
       "</style>\n",
       "<table border=\"1\" class=\"dataframe\">\n",
       "  <thead>\n",
       "    <tr style=\"text-align: right;\">\n",
       "      <th></th>\n",
       "      <th>unified_id</th>\n",
       "      <th>month</th>\n",
       "      <th>latitude</th>\n",
       "      <th>longitude</th>\n",
       "      <th>year</th>\n",
       "    </tr>\n",
       "  </thead>\n",
       "  <tbody>\n",
       "    <tr>\n",
       "      <th>0</th>\n",
       "      <td>10052559</td>\n",
       "      <td>12</td>\n",
       "      <td>34.23948</td>\n",
       "      <td>-116.87991</td>\n",
       "      <td>2022</td>\n",
       "    </tr>\n",
       "    <tr>\n",
       "      <th>1</th>\n",
       "      <td>10178668</td>\n",
       "      <td>12</td>\n",
       "      <td>34.25095</td>\n",
       "      <td>-116.94139</td>\n",
       "      <td>2022</td>\n",
       "    </tr>\n",
       "    <tr>\n",
       "      <th>2</th>\n",
       "      <td>10211700</td>\n",
       "      <td>12</td>\n",
       "      <td>34.24516</td>\n",
       "      <td>-116.87618</td>\n",
       "      <td>2022</td>\n",
       "    </tr>\n",
       "    <tr>\n",
       "      <th>3</th>\n",
       "      <td>10344705</td>\n",
       "      <td>12</td>\n",
       "      <td>34.26750</td>\n",
       "      <td>-116.86089</td>\n",
       "      <td>2022</td>\n",
       "    </tr>\n",
       "    <tr>\n",
       "      <th>4</th>\n",
       "      <td>10424683</td>\n",
       "      <td>12</td>\n",
       "      <td>34.25341</td>\n",
       "      <td>-116.88025</td>\n",
       "      <td>2022</td>\n",
       "    </tr>\n",
       "  </tbody>\n",
       "</table>\n",
       "</div>"
      ],
      "text/plain": [
       "   unified_id  month  latitude  longitude  year\n",
       "0    10052559     12  34.23948 -116.87991  2022\n",
       "1    10178668     12  34.25095 -116.94139  2022\n",
       "2    10211700     12  34.24516 -116.87618  2022\n",
       "3    10344705     12  34.26750 -116.86089  2022\n",
       "4    10424683     12  34.25341 -116.88025  2022"
      ]
     },
     "execution_count": 62,
     "metadata": {},
     "output_type": "execute_result"
    }
   ],
   "source": [
    "geolocation_cleaned.head()"
   ]
  },
  {
   "cell_type": "code",
   "execution_count": 63,
   "id": "17fd38c2-7e0f-4956-907a-f01433afc49e",
   "metadata": {},
   "outputs": [
    {
     "name": "stdout",
     "output_type": "stream",
     "text": [
      "The Geolocation dataset now has 49311 instances\n"
     ]
    }
   ],
   "source": [
    "print(f'The Geolocation dataset now has {geolocation_cleaned.shape[0]} instances')"
   ]
  },
  {
   "cell_type": "code",
   "execution_count": 64,
   "id": "a4ade356-03f6-4a18-9d47-682574a6ea17",
   "metadata": {},
   "outputs": [
    {
     "name": "stdout",
     "output_type": "stream",
     "text": [
      "The Geolocation dataset now has 5 attributes\n"
     ]
    }
   ],
   "source": [
    "print(f'The Geolocation dataset now has {geolocation_cleaned.shape[1]} attributes')"
   ]
  },
  {
   "cell_type": "code",
   "execution_count": 65,
   "id": "bd2839c0-cdb4-4a6b-978a-66301c012cd9",
   "metadata": {},
   "outputs": [
    {
     "name": "stdout",
     "output_type": "stream",
     "text": [
      "<class 'pandas.core.frame.DataFrame'>\n",
      "Int64Index: 49311 entries, 0 to 49310\n",
      "Data columns (total 5 columns):\n",
      " #   Column      Non-Null Count  Dtype  \n",
      "---  ------      --------------  -----  \n",
      " 0   unified_id  49311 non-null  int64  \n",
      " 1   month       49311 non-null  int64  \n",
      " 2   latitude    49311 non-null  float64\n",
      " 3   longitude   49311 non-null  float64\n",
      " 4   year        49311 non-null  int64  \n",
      "dtypes: float64(2), int64(3)\n",
      "memory usage: 2.3 MB\n"
     ]
    }
   ],
   "source": [
    "geolocation_cleaned.info()"
   ]
  },
  {
   "cell_type": "markdown",
   "id": "f2b50a34-1bc7-4612-af91-b089d3875db5",
   "metadata": {},
   "source": [
    "### Merging Datasets"
   ]
  },
  {
   "cell_type": "code",
   "execution_count": 66,
   "id": "e66e5d24-7d6c-40db-a56e-6829a57ed5ee",
   "metadata": {},
   "outputs": [],
   "source": [
    "airbnb = pd.merge(market_analysis_cleaned, amenities_cleaned, on = ['unified_id', 'month', 'year'], how = 'inner')\n",
    "airbnb = pd.merge(airbnb, geolocation_cleaned, on = ['unified_id', 'month', 'year'], how = 'inner')"
   ]
  },
  {
   "cell_type": "code",
   "execution_count": 67,
   "id": "c818365b-3849-4829-94b2-989b7b3536a2",
   "metadata": {},
   "outputs": [
    {
     "data": {
      "text/html": [
       "<div>\n",
       "<style scoped>\n",
       "    .dataframe tbody tr th:only-of-type {\n",
       "        vertical-align: middle;\n",
       "    }\n",
       "\n",
       "    .dataframe tbody tr th {\n",
       "        vertical-align: top;\n",
       "    }\n",
       "\n",
       "    .dataframe thead th {\n",
       "        text-align: right;\n",
       "    }\n",
       "</style>\n",
       "<table border=\"1\" class=\"dataframe\">\n",
       "  <thead>\n",
       "    <tr style=\"text-align: right;\">\n",
       "      <th></th>\n",
       "      <th>unified_id</th>\n",
       "      <th>month</th>\n",
       "      <th>year</th>\n",
       "      <th>zipcode</th>\n",
       "      <th>city</th>\n",
       "      <th>host_type</th>\n",
       "      <th>bedrooms</th>\n",
       "      <th>bathrooms</th>\n",
       "      <th>guests</th>\n",
       "      <th>revenue</th>\n",
       "      <th>openness</th>\n",
       "      <th>occupancy</th>\n",
       "      <th>nightly_rate</th>\n",
       "      <th>lead_time</th>\n",
       "      <th>length_stay</th>\n",
       "      <th>hot_tub</th>\n",
       "      <th>pool</th>\n",
       "      <th>latitude</th>\n",
       "      <th>longitude</th>\n",
       "    </tr>\n",
       "  </thead>\n",
       "  <tbody>\n",
       "    <tr>\n",
       "      <th>0</th>\n",
       "      <td>10000347</td>\n",
       "      <td>1</td>\n",
       "      <td>2020</td>\n",
       "      <td>92315</td>\n",
       "      <td>Big Bear Lake</td>\n",
       "      <td>2-5 Units</td>\n",
       "      <td>3</td>\n",
       "      <td>2.0</td>\n",
       "      <td>10</td>\n",
       "      <td>899.959992</td>\n",
       "      <td>31</td>\n",
       "      <td>0.064516</td>\n",
       "      <td>449.979996</td>\n",
       "      <td>52.000000</td>\n",
       "      <td>3.000000</td>\n",
       "      <td>0</td>\n",
       "      <td>0</td>\n",
       "      <td>34.242234</td>\n",
       "      <td>-116.943297</td>\n",
       "    </tr>\n",
       "    <tr>\n",
       "      <th>1</th>\n",
       "      <td>10000347</td>\n",
       "      <td>2</td>\n",
       "      <td>2020</td>\n",
       "      <td>92315</td>\n",
       "      <td>Big Bear Lake</td>\n",
       "      <td>2-5 Units</td>\n",
       "      <td>3</td>\n",
       "      <td>2.0</td>\n",
       "      <td>10</td>\n",
       "      <td>450.000000</td>\n",
       "      <td>29</td>\n",
       "      <td>0.034483</td>\n",
       "      <td>450.000000</td>\n",
       "      <td>8.000000</td>\n",
       "      <td>1.000000</td>\n",
       "      <td>0</td>\n",
       "      <td>0</td>\n",
       "      <td>34.242234</td>\n",
       "      <td>-116.943297</td>\n",
       "    </tr>\n",
       "    <tr>\n",
       "      <th>2</th>\n",
       "      <td>10000347</td>\n",
       "      <td>7</td>\n",
       "      <td>2020</td>\n",
       "      <td>92315</td>\n",
       "      <td>Big Bear Lake</td>\n",
       "      <td>2-5 Units</td>\n",
       "      <td>3</td>\n",
       "      <td>2.0</td>\n",
       "      <td>10</td>\n",
       "      <td>12600.000000</td>\n",
       "      <td>29</td>\n",
       "      <td>0.965517</td>\n",
       "      <td>450.000000</td>\n",
       "      <td>7.363636</td>\n",
       "      <td>2.545455</td>\n",
       "      <td>0</td>\n",
       "      <td>0</td>\n",
       "      <td>34.242230</td>\n",
       "      <td>-116.943300</td>\n",
       "    </tr>\n",
       "    <tr>\n",
       "      <th>3</th>\n",
       "      <td>10000347</td>\n",
       "      <td>9</td>\n",
       "      <td>2020</td>\n",
       "      <td>92315</td>\n",
       "      <td>Big Bear Lake</td>\n",
       "      <td>2-5 Units</td>\n",
       "      <td>3</td>\n",
       "      <td>2.0</td>\n",
       "      <td>10</td>\n",
       "      <td>13500.000000</td>\n",
       "      <td>30</td>\n",
       "      <td>1.000000</td>\n",
       "      <td>450.000000</td>\n",
       "      <td>11.000000</td>\n",
       "      <td>174.000000</td>\n",
       "      <td>0</td>\n",
       "      <td>0</td>\n",
       "      <td>34.242230</td>\n",
       "      <td>-116.943300</td>\n",
       "    </tr>\n",
       "    <tr>\n",
       "      <th>4</th>\n",
       "      <td>10000347</td>\n",
       "      <td>3</td>\n",
       "      <td>2021</td>\n",
       "      <td>92315</td>\n",
       "      <td>Big Bear Lake</td>\n",
       "      <td>2-5 Units</td>\n",
       "      <td>3</td>\n",
       "      <td>2.0</td>\n",
       "      <td>10</td>\n",
       "      <td>5400.000000</td>\n",
       "      <td>31</td>\n",
       "      <td>0.387097</td>\n",
       "      <td>450.000000</td>\n",
       "      <td>6.625000</td>\n",
       "      <td>1.500000</td>\n",
       "      <td>0</td>\n",
       "      <td>0</td>\n",
       "      <td>34.242230</td>\n",
       "      <td>-116.943300</td>\n",
       "    </tr>\n",
       "    <tr>\n",
       "      <th>...</th>\n",
       "      <td>...</td>\n",
       "      <td>...</td>\n",
       "      <td>...</td>\n",
       "      <td>...</td>\n",
       "      <td>...</td>\n",
       "      <td>...</td>\n",
       "      <td>...</td>\n",
       "      <td>...</td>\n",
       "      <td>...</td>\n",
       "      <td>...</td>\n",
       "      <td>...</td>\n",
       "      <td>...</td>\n",
       "      <td>...</td>\n",
       "      <td>...</td>\n",
       "      <td>...</td>\n",
       "      <td>...</td>\n",
       "      <td>...</td>\n",
       "      <td>...</td>\n",
       "      <td>...</td>\n",
       "    </tr>\n",
       "    <tr>\n",
       "      <th>40709</th>\n",
       "      <td>9996370</td>\n",
       "      <td>5</td>\n",
       "      <td>2021</td>\n",
       "      <td>92314</td>\n",
       "      <td>Big Bear City</td>\n",
       "      <td>Single Owners</td>\n",
       "      <td>3</td>\n",
       "      <td>1.0</td>\n",
       "      <td>8</td>\n",
       "      <td>700.000000</td>\n",
       "      <td>31</td>\n",
       "      <td>0.096774</td>\n",
       "      <td>233.333333</td>\n",
       "      <td>19.000000</td>\n",
       "      <td>3.000000</td>\n",
       "      <td>0</td>\n",
       "      <td>0</td>\n",
       "      <td>34.267070</td>\n",
       "      <td>-116.861130</td>\n",
       "    </tr>\n",
       "    <tr>\n",
       "      <th>40710</th>\n",
       "      <td>9996370</td>\n",
       "      <td>6</td>\n",
       "      <td>2021</td>\n",
       "      <td>92314</td>\n",
       "      <td>Big Bear City</td>\n",
       "      <td>Single Owners</td>\n",
       "      <td>3</td>\n",
       "      <td>1.0</td>\n",
       "      <td>8</td>\n",
       "      <td>1700.000000</td>\n",
       "      <td>30</td>\n",
       "      <td>0.266667</td>\n",
       "      <td>212.500000</td>\n",
       "      <td>16.000000</td>\n",
       "      <td>2.666667</td>\n",
       "      <td>0</td>\n",
       "      <td>0</td>\n",
       "      <td>34.267070</td>\n",
       "      <td>-116.861130</td>\n",
       "    </tr>\n",
       "    <tr>\n",
       "      <th>40711</th>\n",
       "      <td>9996370</td>\n",
       "      <td>7</td>\n",
       "      <td>2021</td>\n",
       "      <td>92314</td>\n",
       "      <td>Big Bear City</td>\n",
       "      <td>Single Owners</td>\n",
       "      <td>3</td>\n",
       "      <td>1.0</td>\n",
       "      <td>8</td>\n",
       "      <td>5500.000000</td>\n",
       "      <td>31</td>\n",
       "      <td>0.806452</td>\n",
       "      <td>220.000000</td>\n",
       "      <td>38.750000</td>\n",
       "      <td>3.125000</td>\n",
       "      <td>0</td>\n",
       "      <td>0</td>\n",
       "      <td>34.267070</td>\n",
       "      <td>-116.861130</td>\n",
       "    </tr>\n",
       "    <tr>\n",
       "      <th>40712</th>\n",
       "      <td>9996370</td>\n",
       "      <td>8</td>\n",
       "      <td>2021</td>\n",
       "      <td>92314</td>\n",
       "      <td>Big Bear City</td>\n",
       "      <td>Single Owners</td>\n",
       "      <td>3</td>\n",
       "      <td>1.0</td>\n",
       "      <td>8</td>\n",
       "      <td>4300.000000</td>\n",
       "      <td>31</td>\n",
       "      <td>0.645161</td>\n",
       "      <td>215.000000</td>\n",
       "      <td>19.000000</td>\n",
       "      <td>5.000000</td>\n",
       "      <td>0</td>\n",
       "      <td>0</td>\n",
       "      <td>34.267070</td>\n",
       "      <td>-116.861130</td>\n",
       "    </tr>\n",
       "    <tr>\n",
       "      <th>40713</th>\n",
       "      <td>9996370</td>\n",
       "      <td>7</td>\n",
       "      <td>2022</td>\n",
       "      <td>92314</td>\n",
       "      <td>Big Bear City</td>\n",
       "      <td>Single Owners</td>\n",
       "      <td>3</td>\n",
       "      <td>1.0</td>\n",
       "      <td>8</td>\n",
       "      <td>730.000000</td>\n",
       "      <td>31</td>\n",
       "      <td>0.129032</td>\n",
       "      <td>182.500000</td>\n",
       "      <td>10.500000</td>\n",
       "      <td>2.000000</td>\n",
       "      <td>0</td>\n",
       "      <td>0</td>\n",
       "      <td>34.267070</td>\n",
       "      <td>-116.861130</td>\n",
       "    </tr>\n",
       "  </tbody>\n",
       "</table>\n",
       "<p>40714 rows × 19 columns</p>\n",
       "</div>"
      ],
      "text/plain": [
       "       unified_id  month  year  zipcode           city      host_type  \\\n",
       "0        10000347      1  2020    92315  Big Bear Lake      2-5 Units   \n",
       "1        10000347      2  2020    92315  Big Bear Lake      2-5 Units   \n",
       "2        10000347      7  2020    92315  Big Bear Lake      2-5 Units   \n",
       "3        10000347      9  2020    92315  Big Bear Lake      2-5 Units   \n",
       "4        10000347      3  2021    92315  Big Bear Lake      2-5 Units   \n",
       "...           ...    ...   ...      ...            ...            ...   \n",
       "40709     9996370      5  2021    92314  Big Bear City  Single Owners   \n",
       "40710     9996370      6  2021    92314  Big Bear City  Single Owners   \n",
       "40711     9996370      7  2021    92314  Big Bear City  Single Owners   \n",
       "40712     9996370      8  2021    92314  Big Bear City  Single Owners   \n",
       "40713     9996370      7  2022    92314  Big Bear City  Single Owners   \n",
       "\n",
       "       bedrooms  bathrooms  guests       revenue  openness  occupancy  \\\n",
       "0             3        2.0      10    899.959992        31   0.064516   \n",
       "1             3        2.0      10    450.000000        29   0.034483   \n",
       "2             3        2.0      10  12600.000000        29   0.965517   \n",
       "3             3        2.0      10  13500.000000        30   1.000000   \n",
       "4             3        2.0      10   5400.000000        31   0.387097   \n",
       "...         ...        ...     ...           ...       ...        ...   \n",
       "40709         3        1.0       8    700.000000        31   0.096774   \n",
       "40710         3        1.0       8   1700.000000        30   0.266667   \n",
       "40711         3        1.0       8   5500.000000        31   0.806452   \n",
       "40712         3        1.0       8   4300.000000        31   0.645161   \n",
       "40713         3        1.0       8    730.000000        31   0.129032   \n",
       "\n",
       "       nightly_rate  lead_time  length_stay  hot_tub  pool   latitude  \\\n",
       "0        449.979996  52.000000     3.000000        0     0  34.242234   \n",
       "1        450.000000   8.000000     1.000000        0     0  34.242234   \n",
       "2        450.000000   7.363636     2.545455        0     0  34.242230   \n",
       "3        450.000000  11.000000   174.000000        0     0  34.242230   \n",
       "4        450.000000   6.625000     1.500000        0     0  34.242230   \n",
       "...             ...        ...          ...      ...   ...        ...   \n",
       "40709    233.333333  19.000000     3.000000        0     0  34.267070   \n",
       "40710    212.500000  16.000000     2.666667        0     0  34.267070   \n",
       "40711    220.000000  38.750000     3.125000        0     0  34.267070   \n",
       "40712    215.000000  19.000000     5.000000        0     0  34.267070   \n",
       "40713    182.500000  10.500000     2.000000        0     0  34.267070   \n",
       "\n",
       "        longitude  \n",
       "0     -116.943297  \n",
       "1     -116.943297  \n",
       "2     -116.943300  \n",
       "3     -116.943300  \n",
       "4     -116.943300  \n",
       "...           ...  \n",
       "40709 -116.861130  \n",
       "40710 -116.861130  \n",
       "40711 -116.861130  \n",
       "40712 -116.861130  \n",
       "40713 -116.861130  \n",
       "\n",
       "[40714 rows x 19 columns]"
      ]
     },
     "execution_count": 67,
     "metadata": {},
     "output_type": "execute_result"
    }
   ],
   "source": [
    "airbnb"
   ]
  },
  {
   "cell_type": "markdown",
   "id": "a717fe2b-461a-4096-ba63-71920f94c76d",
   "metadata": {},
   "source": [
    "#### **Double-checking for Duplicates**"
   ]
  },
  {
   "cell_type": "code",
   "execution_count": 68,
   "id": "961cba82-3d48-4c5f-a097-bcf0290d28af",
   "metadata": {},
   "outputs": [
    {
     "data": {
      "text/plain": [
       "0"
      ]
     },
     "execution_count": 68,
     "metadata": {},
     "output_type": "execute_result"
    }
   ],
   "source": [
    "airbnb.duplicated().sum()"
   ]
  },
  {
   "cell_type": "markdown",
   "id": "7d92d05d-721d-4ade-99c9-86711d87bc84",
   "metadata": {},
   "source": [
    "#### **Double-checking for Missing Values**"
   ]
  },
  {
   "cell_type": "code",
   "execution_count": 69,
   "id": "9df40d4c-505d-449a-8605-c80be697bb10",
   "metadata": {},
   "outputs": [
    {
     "data": {
      "text/plain": [
       "unified_id      0\n",
       "month           0\n",
       "year            0\n",
       "zipcode         0\n",
       "city            0\n",
       "host_type       0\n",
       "bedrooms        0\n",
       "bathrooms       0\n",
       "guests          0\n",
       "revenue         0\n",
       "openness        0\n",
       "occupancy       0\n",
       "nightly_rate    0\n",
       "lead_time       0\n",
       "length_stay     0\n",
       "hot_tub         0\n",
       "pool            0\n",
       "latitude        0\n",
       "longitude       0\n",
       "dtype: int64"
      ]
     },
     "execution_count": 69,
     "metadata": {},
     "output_type": "execute_result"
    }
   ],
   "source": [
    "airbnb.isnull().sum()"
   ]
  },
  {
   "cell_type": "code",
   "execution_count": 70,
   "id": "3b6ed222-7ea6-4a8f-a6a4-5c7f22d77dd7",
   "metadata": {},
   "outputs": [
    {
     "data": {
      "text/plain": [
       "0"
      ]
     },
     "execution_count": 70,
     "metadata": {},
     "output_type": "execute_result"
    }
   ],
   "source": [
    "airbnb.isnull().any(axis = 1).sum()"
   ]
  },
  {
   "cell_type": "code",
   "execution_count": 71,
   "id": "c4de3179-67de-417e-a413-56d476da2ffc",
   "metadata": {},
   "outputs": [],
   "source": [
    "airbnb.to_csv('airbnb_fixed.csv', index=False)"
   ]
  }
 ],
 "metadata": {
  "kernelspec": {
   "display_name": "Python 3 (ipykernel)",
   "language": "python",
   "name": "python3"
  },
  "language_info": {
   "codemirror_mode": {
    "name": "ipython",
    "version": 3
   },
   "file_extension": ".py",
   "mimetype": "text/x-python",
   "name": "python",
   "nbconvert_exporter": "python",
   "pygments_lexer": "ipython3",
   "version": "3.9.13"
  }
 },
 "nbformat": 4,
 "nbformat_minor": 5
}
